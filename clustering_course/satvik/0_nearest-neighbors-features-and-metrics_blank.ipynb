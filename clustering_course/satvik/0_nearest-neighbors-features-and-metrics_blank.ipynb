version https://git-lfs.github.com/spec/v1
oid sha256:a438a3704f998fba794f40c9c58d095b6d745f16d7307ac41cf94d894561df4b
size 32421
