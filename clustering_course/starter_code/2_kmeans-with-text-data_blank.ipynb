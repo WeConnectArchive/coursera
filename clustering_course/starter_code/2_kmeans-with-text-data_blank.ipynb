version https://git-lfs.github.com/spec/v1
oid sha256:92e560d99efe280749ba390827bb634bc97bda3c1a87bc0127d056a61f9c552c
size 60250
