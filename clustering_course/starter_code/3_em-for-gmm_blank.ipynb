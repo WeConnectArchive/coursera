version https://git-lfs.github.com/spec/v1
oid sha256:dec10b3bca728ffee785389f71aa1910358f18ed6db2097004a61f23179fe324
size 46321
