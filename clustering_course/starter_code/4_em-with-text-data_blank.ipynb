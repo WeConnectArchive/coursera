version https://git-lfs.github.com/spec/v1
oid sha256:bc2d8a9cbd5d072d30d495d115b22388041109faa8715325a1589b6c249b30a8
size 18382
